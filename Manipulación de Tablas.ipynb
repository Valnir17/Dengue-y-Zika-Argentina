{
 "cells": [
  {
   "cell_type": "markdown",
   "metadata": {},
   "source": [
    "Arranco importando pandas y metiendo los csv como dataframes."
   ]
  },
  {
   "cell_type": "code",
   "execution_count": 1,
   "metadata": {},
   "outputs": [
    {
     "name": "stderr",
     "output_type": "stream",
     "text": [
      "/usr/lib/python3/dist-packages/scipy/__init__.py:146: UserWarning: A NumPy version >=1.17.3 and <1.25.0 is required for this version of SciPy (detected version 1.26.4\n",
      "  warnings.warn(f\"A NumPy version >={np_minversion} and <{np_maxversion}\"\n"
     ]
    }
   ],
   "source": [
    "import pandas as pd\n",
    "import numpy as np\n",
    "import re\n",
    "import calendar\n",
    "import seaborn as sns\n",
    "import matplotlib.pyplot as plt\n",
    "import pycaret as pc\n",
    "sns.set_theme()"
   ]
  },
  {
   "cell_type": "code",
   "execution_count": 2,
   "metadata": {},
   "outputs": [],
   "source": [
    "df20182 = pd.read_csv(r\"Dengue, Zika 2018 - 2.csv\")\n",
    "df2018 = pd.read_csv(r\"Dengue, Zika 2018.csv\")\n",
    "df2019 = pd.read_csv(r\"Dengue, Zika 2019.csv\")\n",
    "df2020 = pd.read_csv(r\"Dengue, Zika 2020.csv\")\n",
    "df2021 = pd.read_csv(r\"Dengue, Zika 2021.csv\")\n",
    "df2022 = pd.read_csv(r\"Dengue, Zika 2022.csv\")\n",
    "df2023 = pd.read_csv(r\"Dengue, Zika 2023.csv\")\n",
    "df2024 = pd.read_csv(r\"Dengue, Zika 2024.csv\")"
   ]
  },
  {
   "cell_type": "markdown",
   "metadata": {},
   "source": [
    "Estandarizo el formato de prov_id y de id_depto dependiendo de si están fusionados o no en su csv."
   ]
  },
  {
   "cell_type": "code",
   "execution_count": 3,
   "metadata": {},
   "outputs": [],
   "source": [
    "### Hago String a todos los id_depto y prov_id de 2018\n",
    "\n",
    "df2018['id_depto'] = df2018['id_depto'].values.astype(str)\n",
    "df2018[\"prov_id\"] = df2018[\"prov_id\"].map(str)\n",
    "\n",
    "### Aplico el zfill\n",
    "\n",
    "df2018['id_depto'] = df2018['id_depto'].str.zfill(5)\n",
    "df2018[\"prov_id\"] = df2018 [\"prov_id\"].str.zfill(2)\n",
    "\n",
    "### Hago String a todos los id_depto y prov_id de 2018-2\n",
    "\n",
    "df20182[\"id_depto\"] = df20182[\"id_depto\"].astype(str)\n",
    "df20182[\"prov_id\"] = df20182[\"prov_id\"].astype(str)\n",
    "\n",
    "### Aplico el zfill\n",
    "\n",
    "df20182['id_depto'] = df20182['id_depto'].str.zfill(3)\n",
    "df20182['prov_id'] = df20182['prov_id'].str.zfill(2)\n",
    "\n",
    "### Hago String a todos los id_depto y prov_id de 2019\n",
    "\n",
    "\n",
    "df2019[\"id_depto\"] = df2019[\"id_depto\"].astype(str)\n",
    "df2019[\"prov_id\"] = df2019[\"prov_id\"].astype(str)\n",
    "\n",
    "### Aplico el zfill\n",
    "\n",
    "df2019['id_depto'] = df2019['id_depto'].str.zfill(5)\n",
    "df2019[\"prov_id\"] = df2019 [\"prov_id\"].str.zfill(2)\n",
    "\n",
    "### Hago String a todos los id_depto y prov_id de 2020\n",
    "\n",
    "df2020[\"id_depto\"] = df2020[\"id_depto\"].astype(str)\n",
    "df2020[\"prov_id\"] = df2020[\"prov_id\"].astype(str)\n",
    "\n",
    "### Aplico el zfill\n",
    "\n",
    "df2020[\"id_depto\"] = df2020 [\"id_depto\"].str.zfill(5)\n",
    "df2020[\"prov_id\"] = df2020 [\"prov_id\"].str.zfill(2)\n",
    "\n",
    "### Hago String a todos los id_depto y prov_id de 2021\n",
    "\n",
    "df2021[\"id_depto\"] = df2021[\"id_depto\"].astype(str)\n",
    "df2021[\"prov_id\"] = df2021[\"prov_id\"].astype(str)\n",
    "\n",
    "### Aplico el zfill\n",
    "\n",
    "df2021[\"id_depto\"] = df2021 [\"id_depto\"].str.zfill(5)\n",
    "df2021[\"prov_id\"] = df2021 [\"prov_id\"].str.zfill(2)\n",
    "\n",
    "### Hago String a todos los id_depto y prov_id de 2022\n",
    "\n",
    "df2022[\"id_depto\"] = df2022[\"id_depto\"].astype(str)\n",
    "df2022[\"prov_id\"] = df2022[\"prov_id\"].astype(str)\n",
    "\n",
    "### Aplico el zfill\n",
    "\n",
    "df2022[\"id_depto\"] = df2022 [\"id_depto\"].str.zfill(3)\n",
    "df2022[\"prov_id\"] = df2022 [\"prov_id\"].str.zfill(2)\n",
    "\n",
    "### Hago String a todos los id_depto y prov_id de 2023\n",
    "\n",
    "df2023[\"id_depto\"] = df2023[\"id_depto\"].astype(str)\n",
    "df2023[\"prov_id\"] = df2023[\"prov_id\"].astype(str)\n",
    "\n",
    "### Aplico el zfill\n",
    "\n",
    "df2023[\"id_depto\"] = df2023 [\"id_depto\"].str.zfill(5)\n",
    "df2023[\"prov_id\"] = df2023 [\"prov_id\"].str.zfill(2)\n",
    "\n",
    "### Hago String a todos los id_depto y prov_id de 2024\n",
    "\n",
    "df2024[\"id_depto\"] = df2024[\"id_depto\"].astype(str)\n",
    "df2024[\"prov_id\"] = df2024[\"prov_id\"].astype(str)\n",
    "\n",
    "### Aplico el zfill\n",
    "\n",
    "df2024[\"id_depto\"] = df2024 [\"id_depto\"].str.zfill(3)\n",
    "df2024[\"prov_id\"] = df2024 [\"prov_id\"].str.zfill(2)"
   ]
  },
  {
   "cell_type": "markdown",
   "metadata": {},
   "source": [
    "Concateno todos los df en uno sólo:"
   ]
  },
  {
   "cell_type": "code",
   "execution_count": 4,
   "metadata": {},
   "outputs": [],
   "source": [
    "TablaCompleta = pd.concat([df20182, df2018, df2019, df2020, df2021, df2022, df2023, df2024])"
   ]
  },
  {
   "cell_type": "code",
   "execution_count": 5,
   "metadata": {},
   "outputs": [
    {
     "data": {
      "text/html": [
       "<div>\n",
       "<style scoped>\n",
       "    .dataframe tbody tr th:only-of-type {\n",
       "        vertical-align: middle;\n",
       "    }\n",
       "\n",
       "    .dataframe tbody tr th {\n",
       "        vertical-align: top;\n",
       "    }\n",
       "\n",
       "    .dataframe thead th {\n",
       "        text-align: right;\n",
       "    }\n",
       "</style>\n",
       "<table border=\"1\" class=\"dataframe\">\n",
       "  <thead>\n",
       "    <tr style=\"text-align: right;\">\n",
       "      <th></th>\n",
       "      <th>id_depto</th>\n",
       "      <th>depto</th>\n",
       "      <th>prov_id</th>\n",
       "      <th>prov</th>\n",
       "      <th>año</th>\n",
       "      <th>semanas</th>\n",
       "      <th>evento</th>\n",
       "      <th>edad_id</th>\n",
       "      <th>edad_desc</th>\n",
       "      <th>cantidad</th>\n",
       "    </tr>\n",
       "  </thead>\n",
       "  <tbody>\n",
       "    <tr>\n",
       "      <th>0</th>\n",
       "      <td>000</td>\n",
       "      <td>*sin dato*</td>\n",
       "      <td>06</td>\n",
       "      <td>Buenos Aires</td>\n",
       "      <td>2018</td>\n",
       "      <td>11</td>\n",
       "      <td>Dengue</td>\n",
       "      <td>10</td>\n",
       "      <td>De 45 a 64 años</td>\n",
       "      <td>1.0</td>\n",
       "    </tr>\n",
       "    <tr>\n",
       "      <th>1</th>\n",
       "      <td>035</td>\n",
       "      <td>Avellaneda</td>\n",
       "      <td>06</td>\n",
       "      <td>Buenos Aires</td>\n",
       "      <td>2018</td>\n",
       "      <td>7</td>\n",
       "      <td>Dengue</td>\n",
       "      <td>8</td>\n",
       "      <td>De 20 a 24 años</td>\n",
       "      <td>1.0</td>\n",
       "    </tr>\n",
       "    <tr>\n",
       "      <th>2</th>\n",
       "      <td>035</td>\n",
       "      <td>Avellaneda</td>\n",
       "      <td>06</td>\n",
       "      <td>Buenos Aires</td>\n",
       "      <td>2018</td>\n",
       "      <td>7</td>\n",
       "      <td>Dengue</td>\n",
       "      <td>10</td>\n",
       "      <td>De 45 a 64 años</td>\n",
       "      <td>1.0</td>\n",
       "    </tr>\n",
       "    <tr>\n",
       "      <th>3</th>\n",
       "      <td>035</td>\n",
       "      <td>Avellaneda</td>\n",
       "      <td>06</td>\n",
       "      <td>Buenos Aires</td>\n",
       "      <td>2018</td>\n",
       "      <td>9</td>\n",
       "      <td>Dengue</td>\n",
       "      <td>6</td>\n",
       "      <td>De 10 a 14 años</td>\n",
       "      <td>1.0</td>\n",
       "    </tr>\n",
       "    <tr>\n",
       "      <th>4</th>\n",
       "      <td>035</td>\n",
       "      <td>Avellaneda</td>\n",
       "      <td>06</td>\n",
       "      <td>Buenos Aires</td>\n",
       "      <td>2018</td>\n",
       "      <td>9</td>\n",
       "      <td>Dengue</td>\n",
       "      <td>8</td>\n",
       "      <td>De 20 a 24 años</td>\n",
       "      <td>1.0</td>\n",
       "    </tr>\n",
       "    <tr>\n",
       "      <th>...</th>\n",
       "      <td>...</td>\n",
       "      <td>...</td>\n",
       "      <td>...</td>\n",
       "      <td>...</td>\n",
       "      <td>...</td>\n",
       "      <td>...</td>\n",
       "      <td>...</td>\n",
       "      <td>...</td>\n",
       "      <td>...</td>\n",
       "      <td>...</td>\n",
       "    </tr>\n",
       "    <tr>\n",
       "      <th>26961</th>\n",
       "      <td>035</td>\n",
       "      <td>Patiño</td>\n",
       "      <td>34</td>\n",
       "      <td>Formosa</td>\n",
       "      <td>2024</td>\n",
       "      <td>10</td>\n",
       "      <td>Dengue</td>\n",
       "      <td>4</td>\n",
       "      <td>De 2 a 4 años</td>\n",
       "      <td>1.0</td>\n",
       "    </tr>\n",
       "    <tr>\n",
       "      <th>26962</th>\n",
       "      <td>091</td>\n",
       "      <td>Maipú</td>\n",
       "      <td>22</td>\n",
       "      <td>Chaco</td>\n",
       "      <td>2024</td>\n",
       "      <td>1</td>\n",
       "      <td>Dengue</td>\n",
       "      <td>9</td>\n",
       "      <td>De 25 a 34 años</td>\n",
       "      <td>1.0</td>\n",
       "    </tr>\n",
       "    <tr>\n",
       "      <th>26963</th>\n",
       "      <td>014</td>\n",
       "      <td>Bermejo</td>\n",
       "      <td>22</td>\n",
       "      <td>Chaco</td>\n",
       "      <td>2024</td>\n",
       "      <td>17</td>\n",
       "      <td>Dengue</td>\n",
       "      <td>5</td>\n",
       "      <td>De 5 a 9 años</td>\n",
       "      <td>1.0</td>\n",
       "    </tr>\n",
       "    <tr>\n",
       "      <th>26964</th>\n",
       "      <td>043</td>\n",
       "      <td>Fray Justo Santa María de Oro</td>\n",
       "      <td>22</td>\n",
       "      <td>Chaco</td>\n",
       "      <td>2024</td>\n",
       "      <td>12</td>\n",
       "      <td>Dengue</td>\n",
       "      <td>9</td>\n",
       "      <td>De 25 a 34 años</td>\n",
       "      <td>1.0</td>\n",
       "    </tr>\n",
       "    <tr>\n",
       "      <th>26965</th>\n",
       "      <td>084</td>\n",
       "      <td>Libertador General San Martín</td>\n",
       "      <td>22</td>\n",
       "      <td>Chaco</td>\n",
       "      <td>2024</td>\n",
       "      <td>4</td>\n",
       "      <td>Dengue</td>\n",
       "      <td>3</td>\n",
       "      <td>De 13 a 24 meses</td>\n",
       "      <td>1.0</td>\n",
       "    </tr>\n",
       "  </tbody>\n",
       "</table>\n",
       "<p>45860 rows × 10 columns</p>\n",
       "</div>"
      ],
      "text/plain": [
       "      id_depto                          depto prov_id          prov   año  \\\n",
       "0          000                     *sin dato*      06  Buenos Aires  2018   \n",
       "1          035                     Avellaneda      06  Buenos Aires  2018   \n",
       "2          035                     Avellaneda      06  Buenos Aires  2018   \n",
       "3          035                     Avellaneda      06  Buenos Aires  2018   \n",
       "4          035                     Avellaneda      06  Buenos Aires  2018   \n",
       "...        ...                            ...     ...           ...   ...   \n",
       "26961      035                         Patiño      34       Formosa  2024   \n",
       "26962      091                          Maipú      22         Chaco  2024   \n",
       "26963      014                        Bermejo      22         Chaco  2024   \n",
       "26964      043  Fray Justo Santa María de Oro      22         Chaco  2024   \n",
       "26965      084  Libertador General San Martín      22         Chaco  2024   \n",
       "\n",
       "      semanas  evento edad_id         edad_desc  cantidad  \n",
       "0          11  Dengue      10   De 45 a 64 años       1.0  \n",
       "1           7  Dengue       8   De 20 a 24 años       1.0  \n",
       "2           7  Dengue      10   De 45 a 64 años       1.0  \n",
       "3           9  Dengue       6   De 10 a 14 años       1.0  \n",
       "4           9  Dengue       8   De 20 a 24 años       1.0  \n",
       "...       ...     ...     ...               ...       ...  \n",
       "26961      10  Dengue       4     De 2 a 4 años       1.0  \n",
       "26962       1  Dengue       9   De 25 a 34 años       1.0  \n",
       "26963      17  Dengue       5     De 5 a 9 años       1.0  \n",
       "26964      12  Dengue       9   De 25 a 34 años       1.0  \n",
       "26965       4  Dengue       3  De 13 a 24 meses       1.0  \n",
       "\n",
       "[45860 rows x 10 columns]"
      ]
     },
     "execution_count": 5,
     "metadata": {},
     "output_type": "execute_result"
    }
   ],
   "source": [
    "TablaCompleta"
   ]
  },
  {
   "cell_type": "markdown",
   "metadata": {},
   "source": [
    "Termino de estandarizar el formato de id_depto agregandole prov_id a todos los id_depto donde no estaba originalmente"
   ]
  },
  {
   "cell_type": "code",
   "execution_count": 6,
   "metadata": {},
   "outputs": [],
   "source": [
    "# Encuentro dónde tiene una longitud de 3 caracteres\n",
    "idcorto = TablaCompleta['id_depto'].str.len() == 3\n",
    "\n",
    "# Junto los prov_id con el id_depto en las id_depto donde tiene una longitud de 3 caracteres\n",
    "TablaCompleta.loc[idcorto, 'id_depto'] =  TablaCompleta.loc[idcorto, 'prov_id'] + TablaCompleta.loc[idcorto, 'id_depto']"
   ]
  },
  {
   "cell_type": "markdown",
   "metadata": {},
   "source": [
    "Info (para ver los elementos no nulos)"
   ]
  },
  {
   "cell_type": "code",
   "execution_count": 7,
   "metadata": {},
   "outputs": [
    {
     "name": "stdout",
     "output_type": "stream",
     "text": [
      "<class 'pandas.core.frame.DataFrame'>\n",
      "Index: 45860 entries, 0 to 26965\n",
      "Data columns (total 10 columns):\n",
      " #   Column     Non-Null Count  Dtype  \n",
      "---  ------     --------------  -----  \n",
      " 0   id_depto   45860 non-null  object \n",
      " 1   depto      45860 non-null  object \n",
      " 2   prov_id    45860 non-null  object \n",
      " 3   prov       45860 non-null  object \n",
      " 4   año        45860 non-null  int64  \n",
      " 5   semanas    45860 non-null  object \n",
      " 6   evento     45860 non-null  object \n",
      " 7   edad_id    45858 non-null  object \n",
      " 8   edad_desc  45860 non-null  object \n",
      " 9   cantidad   45859 non-null  float64\n",
      "dtypes: float64(1), int64(1), object(8)\n",
      "memory usage: 3.8+ MB\n"
     ]
    }
   ],
   "source": [
    "TablaCompleta.info()"
   ]
  },
  {
   "cell_type": "markdown",
   "metadata": {},
   "source": [
    "Describe (Para ver datos generales de la tabla)"
   ]
  },
  {
   "cell_type": "code",
   "execution_count": 8,
   "metadata": {},
   "outputs": [
    {
     "data": {
      "text/html": [
       "<div>\n",
       "<style scoped>\n",
       "    .dataframe tbody tr th:only-of-type {\n",
       "        vertical-align: middle;\n",
       "    }\n",
       "\n",
       "    .dataframe tbody tr th {\n",
       "        vertical-align: top;\n",
       "    }\n",
       "\n",
       "    .dataframe thead th {\n",
       "        text-align: right;\n",
       "    }\n",
       "</style>\n",
       "<table border=\"1\" class=\"dataframe\">\n",
       "  <thead>\n",
       "    <tr style=\"text-align: right;\">\n",
       "      <th></th>\n",
       "      <th>año</th>\n",
       "      <th>cantidad</th>\n",
       "    </tr>\n",
       "  </thead>\n",
       "  <tbody>\n",
       "    <tr>\n",
       "      <th>count</th>\n",
       "      <td>45860.000000</td>\n",
       "      <td>45859.000000</td>\n",
       "    </tr>\n",
       "    <tr>\n",
       "      <th>mean</th>\n",
       "      <td>2022.525534</td>\n",
       "      <td>11.058920</td>\n",
       "    </tr>\n",
       "    <tr>\n",
       "      <th>std</th>\n",
       "      <td>1.985661</td>\n",
       "      <td>43.354523</td>\n",
       "    </tr>\n",
       "    <tr>\n",
       "      <th>min</th>\n",
       "      <td>2018.000000</td>\n",
       "      <td>1.000000</td>\n",
       "    </tr>\n",
       "    <tr>\n",
       "      <th>25%</th>\n",
       "      <td>2020.000000</td>\n",
       "      <td>1.000000</td>\n",
       "    </tr>\n",
       "    <tr>\n",
       "      <th>50%</th>\n",
       "      <td>2024.000000</td>\n",
       "      <td>2.000000</td>\n",
       "    </tr>\n",
       "    <tr>\n",
       "      <th>75%</th>\n",
       "      <td>2024.000000</td>\n",
       "      <td>7.000000</td>\n",
       "    </tr>\n",
       "    <tr>\n",
       "      <th>max</th>\n",
       "      <td>2024.000000</td>\n",
       "      <td>2226.000000</td>\n",
       "    </tr>\n",
       "  </tbody>\n",
       "</table>\n",
       "</div>"
      ],
      "text/plain": [
       "                año      cantidad\n",
       "count  45860.000000  45859.000000\n",
       "mean    2022.525534     11.058920\n",
       "std        1.985661     43.354523\n",
       "min     2018.000000      1.000000\n",
       "25%     2020.000000      1.000000\n",
       "50%     2024.000000      2.000000\n",
       "75%     2024.000000      7.000000\n",
       "max     2024.000000   2226.000000"
      ]
     },
     "execution_count": 8,
     "metadata": {},
     "output_type": "execute_result"
    }
   ],
   "source": [
    "TablaCompleta.describe()"
   ]
  },
  {
   "cell_type": "markdown",
   "metadata": {},
   "source": [
    "Código para transformar el dataframe en un csv "
   ]
  },
  {
   "cell_type": "code",
   "execution_count": 9,
   "metadata": {},
   "outputs": [],
   "source": [
    "TablaCompleta.to_csv(\"CSVs Creados/TablaCompleta.csv\", index=False)"
   ]
  },
  {
   "cell_type": "markdown",
   "metadata": {},
   "source": [
    "Creo una serie que contiene la cantidad de veces que se repite cada provincia"
   ]
  },
  {
   "cell_type": "code",
   "execution_count": 10,
   "metadata": {},
   "outputs": [
    {
     "data": {
      "text/plain": [
       "prov\n",
       "Buenos Aires           8220\n",
       "Chaco                  5709\n",
       "Salta                  3595\n",
       "Misiones               3508\n",
       "Santa Fe               3296\n",
       "CABA                   3020\n",
       "Córdoba                2973\n",
       "Formosa                2544\n",
       "Tucumán                2507\n",
       "Corrientes             1798\n",
       "Entre Ríos             1572\n",
       "Jujuy                  1344\n",
       "Santiago del Estero    1287\n",
       "Catamarca               967\n",
       "La Rioja                867\n",
       "Mendoza                 565\n",
       "San Juan                544\n",
       "San Luis                385\n",
       "desconocida             258\n",
       "La Pampa                221\n",
       "Santa Cruz              198\n",
       "Tierra del Fuego        147\n",
       "Chubut                  112\n",
       "Neuquén                 111\n",
       "Río Negro                64\n",
       "SAnta Fe                 30\n",
       "C�rdoba                   8\n",
       "(en blanco)               5\n",
       "DESCONOCIDA               2\n",
       "desconocidoo              1\n",
       "SAnta Cruz                1\n",
       "desconocido               1\n",
       "Name: count, dtype: int64"
      ]
     },
     "execution_count": 10,
     "metadata": {},
     "output_type": "execute_result"
    }
   ],
   "source": [
    "# Cuento cuantas veces sale cada prov\n",
    "CantProv = TablaCompleta['prov'].value_counts()\n",
    "CantProv"
   ]
  },
  {
   "cell_type": "markdown",
   "metadata": {},
   "source": [
    "El siguiente paso es agrupar las provincias con su valor correcto (SAnta Cruz con Santa Cruz; juntar los desconocidos, etc.)"
   ]
  },
  {
   "cell_type": "code",
   "execution_count": 11,
   "metadata": {},
   "outputs": [],
   "source": [
    "# Estandarizo las Mayusculas  \n",
    "TablaCompleta['prov'] = TablaCompleta['prov'].str.replace(r'([a-z])([A-Z])', r'\\1 \\2', regex=True).str.title()"
   ]
  },
  {
   "cell_type": "code",
   "execution_count": 12,
   "metadata": {},
   "outputs": [],
   "source": [
    "# Corrijo los errores\n",
    "TablaCompleta['prov'] = TablaCompleta['prov'].replace('(En Blanco)', 'Desconocida')\n",
    "TablaCompleta['prov'] = TablaCompleta['prov'].replace('Desconocido', 'Desconocida')\n",
    "TablaCompleta['prov'] = TablaCompleta['prov'].replace('Desconocidoo', 'Desconocida')\n",
    "TablaCompleta['prov'] = TablaCompleta['prov'].replace('Desconocida', pd.NA)\n",
    "TablaCompleta['prov'] = TablaCompleta['prov'].replace('Caba', 'CABA')\n",
    "TablaCompleta['prov'] = TablaCompleta['prov'].replace('C�Rdoba', 'Córdoba')"
   ]
  },
  {
   "cell_type": "markdown",
   "metadata": {},
   "source": [
    "Limpieza de 'prov' completa.\n",
    "\n",
    "Hago lo mismo para depto"
   ]
  },
  {
   "cell_type": "code",
   "execution_count": 13,
   "metadata": {},
   "outputs": [
    {
     "data": {
      "text/plain": [
       "depto\n",
       "Capital                    3276\n",
       "San Fernando                697\n",
       "Formosa                     643\n",
       "Grl. José de San Martín     628\n",
       "desconocido                 614\n",
       "                           ... \n",
       "Jose C. Paz                   1\n",
       "General Pueyrredon            1\n",
       "Exaltacion de la Cruz         1\n",
       "CHICLIGASTA                   1\n",
       "General Guido                 1\n",
       "Name: count, Length: 485, dtype: int64"
      ]
     },
     "execution_count": 13,
     "metadata": {},
     "output_type": "execute_result"
    }
   ],
   "source": [
    "CantDepto = TablaCompleta['depto'].value_counts()\n",
    "CantDepto"
   ]
  },
  {
   "cell_type": "code",
   "execution_count": 14,
   "metadata": {},
   "outputs": [],
   "source": [
    "TablaCompleta['depto'] = TablaCompleta['depto'].str.replace(r'([a-z])([A-Z])', r'\\1 \\2', regex=True).str.title()"
   ]
  },
  {
   "cell_type": "code",
   "execution_count": 15,
   "metadata": {},
   "outputs": [],
   "source": [
    "TablaCompleta['depto'] = TablaCompleta['depto'].replace('(En Blanco)', 'Desconocida')\n",
    "TablaCompleta['depto'] = TablaCompleta['depto'].replace('Desconocido', 'Desconocida')\n",
    "TablaCompleta['depto'] = TablaCompleta['depto'].replace('Desconocidoo', 'Desconocida')\n",
    "TablaCompleta['depto'] = TablaCompleta['depto'].replace('Desconocida', pd.NA)\n",
    "TablaCompleta['depto'] = TablaCompleta['depto'].replace('Jun�N', 'Junín')\n",
    "TablaCompleta['depto'] = TablaCompleta['depto'].replace('Santa Mar�A', 'Santa María')\n",
    "TablaCompleta['depto'] = TablaCompleta['depto'].replace('Ituzaing�', 'Ituzaingo')\n",
    "TablaCompleta['depto'] = TablaCompleta['depto'].replace('Lan�S', 'Lanús')\n",
    "TablaCompleta['depto'] = TablaCompleta['depto'].replace('Mor�N', 'Morón')\n",
    "TablaCompleta['depto'] = TablaCompleta['depto'].replace('Col�N', 'Colón')\n",
    "TablaCompleta['depto'] = TablaCompleta['depto'].replace('Or�N', 'Orán')\n",
    "TablaCompleta['depto'] = TablaCompleta['depto'].replace('Guaran�', 'Guaraní')\n",
    "TablaCompleta['depto'] = TablaCompleta['depto'].replace('Constituci�N', 'Constitución')"
   ]
  },
  {
   "cell_type": "markdown",
   "metadata": {},
   "source": [
    "Ahora, notamos como en algunos casos; 'Dengue' figura en la columna 'semanas' en vez de en la de 'evento' (y vice-versa); trataremos de arreglar esto:"
   ]
  },
  {
   "cell_type": "code",
   "execution_count": 16,
   "metadata": {},
   "outputs": [],
   "source": [
    "# Agarro las filas donde evento está compuesto por nros\n",
    "filas_malas = TablaCompleta['evento'].str.isnumeric()\n",
    "\n",
    "# Hago un df temporal con las filas que tienen mal la información\n",
    "temp_df = TablaCompleta.loc[filas_malas, ['evento', 'semanas']]\n",
    "\n",
    "# Switcheo los nombres de las columnas del df temporal para que quede bien\n",
    "temp_df = temp_df.rename(columns={'evento': 'semanas', 'semanas': 'evento'})\n",
    "\n",
    "# Reinserto el df temporal en el df original\n",
    "TablaCompleta.loc[filas_malas, ['evento', 'semanas']] = temp_df"
   ]
  },
  {
   "cell_type": "markdown",
   "metadata": {},
   "source": [
    "Lo mismo pasa con las edades y edad_id"
   ]
  },
  {
   "cell_type": "code",
   "execution_count": 17,
   "metadata": {},
   "outputs": [],
   "source": [
    "# Agarro las filas donde edad_desc está compuesto por nros\n",
    "filas_malas = TablaCompleta['edad_desc'].str.isnumeric()\n",
    "\n",
    "# Hago un df temporal con las filas que tienen mal la información\n",
    "temp_df = TablaCompleta.loc[filas_malas, ['edad_desc', 'edad_id']]\n",
    "\n",
    "# Switcheo los nombres de las columnas del df temporal para que quede bien\n",
    "temp_df = temp_df.rename(columns={'edad_desc': 'edad_id', 'edad_id': 'edad_desc'})\n",
    "\n",
    "# Reinserto el df temporal en el df original\n",
    "TablaCompleta.loc[filas_malas, ['edad_desc', 'edad_id']] = temp_df\n",
    "\n",
    "# Filleo los valores nulos de la columna 'edad_id' con 0\n",
    "TablaCompleta['edad_id'] = TablaCompleta['edad_id'].fillna(0)\n",
    "\n",
    "# Filleo los valores nulos de la columna 'edad_desc' con 'Desconocido/Sin Especificar'\n",
    "TablaCompleta['edad_desc'] = TablaCompleta['edad_desc'].fillna('Desconocido/Sin Especificar')\n",
    "\n",
    "\n"
   ]
  },
  {
   "cell_type": "markdown",
   "metadata": {},
   "source": [
    "Estandarizo ahora más detalles de las columnas de edades:"
   ]
  },
  {
   "cell_type": "code",
   "execution_count": 18,
   "metadata": {},
   "outputs": [],
   "source": [
    "TablaCompleta['edad_desc'] = TablaCompleta['edad_desc'].str.replace('anos', 'años', regex=True, flags=re.IGNORECASE)\n",
    "TablaCompleta['edad_desc'] = TablaCompleta['edad_desc'].str.replace('ano', 'año', regex=True, flags=re.IGNORECASE)\n",
    "\n",
    "# Estandarizo las mayúsculas de edad_desc\n",
    "\n",
    "TablaCompleta['edad_desc'] = TablaCompleta['edad_desc'].str.title()\n",
    "\n",
    "'''  Ahora me aseguro que el mismo nro. de edad_id se corresponda con la misma descripción; dónde: \n",
    "0- Desconocido/Sin Especificar\n",
    "1- Menor a 1 año\n",
    "2- 1 a 2 años\n",
    "3- 2 a 4 años\n",
    "4- 5 a 9 años\n",
    "5- 10 a 14 años\n",
    "6- 15 a 24 años\n",
    "7- 25 a 34 años\n",
    "8- 35 a 44 años\n",
    "9- 45 a 64 años\n",
    "10- Mayor o igual a 65\n",
    "'''\n",
    "\n",
    "condition = TablaCompleta['edad_desc'].str.contains('1 a 2 años', case=False, regex=False)\n",
    "TablaCompleta['edad_id'] = np.where(condition, 2, TablaCompleta['edad_id'])\n",
    "\n",
    "condition = TablaCompleta['edad_desc'].str.contains('2 a 4 años', case=False, regex=False)\n",
    "TablaCompleta['edad_id'] = np.where(condition, 3, TablaCompleta['edad_id'])\n",
    "\n",
    "condition = TablaCompleta['edad_desc'].str.contains('13 a 24', case=False, regex=False)\n",
    "TablaCompleta['edad_id'] = np.where(condition, 3, TablaCompleta['edad_id'])\n",
    "TablaCompleta['edad_desc'] = np.where(condition, '1 a 2 años', TablaCompleta['edad_desc'])\n",
    "\n",
    "condition = TablaCompleta['edad_desc'].str.contains('5 a 9 años', case=False, regex=False)\n",
    "TablaCompleta['edad_id'] = np.where(condition, 4, TablaCompleta['edad_id'])\n",
    "\n",
    "condition = TablaCompleta['edad_desc'].str.contains('10 a 14 años', case=False, regex=False)\n",
    "TablaCompleta['edad_id'] = np.where(condition, 5, TablaCompleta['edad_id'])\n",
    "\n",
    "condition = (TablaCompleta['edad_desc'].str.contains('15 a', case=False, regex=False) | \n",
    "             TablaCompleta['edad_desc'].str.contains('24', case=False, regex=False))\n",
    "TablaCompleta['edad_id'] = np.where(condition, 6, TablaCompleta['edad_id'])\n",
    "TablaCompleta['edad_desc'] = np.where(condition, 'De 15 a 24 años', TablaCompleta['edad_desc'])\n",
    "\n",
    "condition = TablaCompleta['edad_desc'].str.contains('25 a 34 años', case=False, regex=False)\n",
    "TablaCompleta['edad_id'] = np.where(condition, 7, TablaCompleta['edad_id'])\n",
    "\n",
    "condition = TablaCompleta['edad_desc'].str.contains('35 a 44 años', case=False, regex=False)\n",
    "TablaCompleta['edad_id'] = np.where(condition, 8, TablaCompleta['edad_id'])\n",
    "\n",
    "condition = TablaCompleta['edad_desc'].str.contains('45 a 64 años', case=False, regex=False)\n",
    "TablaCompleta['edad_id'] = np.where(condition, 9, TablaCompleta['edad_id'])\n",
    "\n",
    "condition = TablaCompleta['edad_desc'].str.contains('65', case=False, regex=False)\n",
    "TablaCompleta['edad_id'] = np.where(condition, 10, TablaCompleta['edad_id'])\n",
    "TablaCompleta['edad_desc'] = np.where(condition, 'Mayor a 65 años', TablaCompleta['edad_desc'])\n",
    "\n",
    "condition = TablaCompleta['edad_desc'].str.contains('nato', case=False, regex=False)\n",
    "TablaCompleta['edad_id'] = np.where(condition, 1, TablaCompleta['edad_id'])\n",
    "TablaCompleta['edad_desc'] = np.where(condition, 'Menor a 1 año', TablaCompleta['edad_desc'])\n",
    "\n",
    "condition = TablaCompleta['edad_desc'].str.contains('menor', case=False, regex=False)\n",
    "TablaCompleta['edad_desc'] = np.where(condition, 'Menor a 1 año', TablaCompleta['edad_desc'])\n",
    "\n",
    "condition = TablaCompleta['edad_desc'].str.contains('-', case=False, regex=False)\n",
    "TablaCompleta['edad_desc'] = np.where(condition, 'Desconocido/Sin Especificar', TablaCompleta['edad_desc'])\n",
    "\n",
    "\n",
    "condition = TablaCompleta['edad_desc'].str.contains('Sin', case=False, regex=False)\n",
    "TablaCompleta['edad_id'] = np.where(condition, 0, TablaCompleta['edad_id'])\n",
    "TablaCompleta['edad_desc'] = np.where(condition, 'Desconocido/Sin Especificar', TablaCompleta['edad_desc'])\n",
    "\n"
   ]
  },
  {
   "cell_type": "markdown",
   "metadata": {},
   "source": [
    "## Limpio los eventos"
   ]
  },
  {
   "cell_type": "code",
   "execution_count": 19,
   "metadata": {},
   "outputs": [],
   "source": [
    "condition = TablaCompleta['evento'].str.contains('Zi', case=False, regex=False)\n",
    "TablaCompleta['evento'] = np.where(condition, 'Zika', TablaCompleta['evento'])\n",
    "\n",
    "\n",
    "condition = TablaCompleta['evento'].str.contains('Den', case=False, regex=False)\n",
    "TablaCompleta['evento'] = np.where(condition, 'Dengue', TablaCompleta['evento'])"
   ]
  },
  {
   "cell_type": "markdown",
   "metadata": {},
   "source": [
    "## Limpio los deptos"
   ]
  },
  {
   "cell_type": "code",
   "execution_count": 20,
   "metadata": {},
   "outputs": [
    {
     "name": "stdout",
     "output_type": "stream",
     "text": [
      "Total number of null values in the DataFrame: 950\n",
      "Non-null values in the 'prov' column:\n",
      "457650\n",
      "The 'id_depto' column starts with '00' 35 times.\n"
     ]
    }
   ],
   "source": [
    "# Creo una mascara para identificar los valores donde los últimos 3 dígitos de id_depto son 000 (y por ende la ubicación es desconocida)\n",
    "mask = TablaCompleta['id_depto'].astype(str).str[-3:] == '000'\n",
    "\n",
    "# Anulo las instancias donde se cumple la mascara\n",
    "TablaCompleta.loc[mask, 'depto'] = pd.NA\n",
    "\n",
    "# Me fijo cuantos valores nulos y no-nulos quedan en la tabla\n",
    "total_null_values = TablaCompleta.isnull().sum().sum()\n",
    "print(f\"Total number of null values in the DataFrame: {total_null_values}\")\n",
    "\n",
    "non_null_values = TablaCompleta.notna().sum().sum()\n",
    "print(f\"Non-null values in the 'prov' column:\\n{non_null_values}\")\n",
    "\n",
    "#Cómo representan un porcentaje no significativo, los dropeo\n",
    "TablaCompleta = TablaCompleta.dropna() \n",
    "\n",
    "# Convert the 'id_depto' column to string\n",
    "TablaCompleta['id_depto'] = TablaCompleta['id_depto'].astype(str)\n",
    "\n",
    "# Veo cuantas veces no se sabe la provincia\n",
    "id00 = TablaCompleta['id_depto'].str.startswith('00').sum()\n",
    "\n",
    "# Notamos que en la tabla hay instancias de algunos deptos donde falta que el id_depto identifique la provincia\n",
    "condition = TablaCompleta['depto'].str.contains('matanza', case=False, regex=False)\n",
    "TablaCompleta['depto'] = np.where(condition, 'La Matanza', TablaCompleta['depto'])\n",
    "TablaCompleta['id_depto'] = np.where(condition, '06427', TablaCompleta['id_depto'])\n",
    "\n",
    "condition = (TablaCompleta['depto'] == ('Comuna 1'))\n",
    "TablaCompleta['id_depto'] = np.where(condition, '02001', TablaCompleta['id_depto'])\n",
    "\n",
    "\n",
    "print(f\"The 'id_depto' column starts with '00' {id00} times.\")\n",
    "\n",
    "# Acomodo las Comunas (que el estandar varía según que año de documentación)\n",
    "\n",
    "# Arranco convirtiendolo en un string para poder aplicarle startswith\n",
    "TablaCompleta['id_depto'] = TablaCompleta['id_depto'].astype(str)\n",
    "\n",
    "# Creo la mascara\n",
    "mask = TablaCompleta['id_depto'].str.startswith('020') & TablaCompleta['id_depto'].str[3:].apply(lambda x: x.isdigit() and 1 <= int(x) <= 15)\n",
    "\n",
    "# Actualizo la columna deptos\n",
    "TablaCompleta.loc[mask, 'depto'] = 'Comuna ' + TablaCompleta.loc[mask, 'id_depto'].str[3:]\n",
    "\n",
    "# Como solo hay 35 instancias en las que id_depto arranca con 00, los nulifico y elimino a todos\n",
    "id00 = TablaCompleta['id_depto'].str.startswith('00').sum()\n",
    "TablaCompleta['id_depto'] = np.where(condition, pd.NA, TablaCompleta['id_depto'])\n",
    "TablaCompleta = TablaCompleta.dropna()\n",
    "\n",
    "\n"
   ]
  },
  {
   "cell_type": "markdown",
   "metadata": {},
   "source": [
    "# Limpio provincias"
   ]
  },
  {
   "cell_type": "code",
   "execution_count": 21,
   "metadata": {},
   "outputs": [],
   "source": [
    "condition = TablaCompleta['prov'].str.contains('Entre', case=False, regex=False)\n",
    "TablaCompleta['prov_id'] = np.where(condition, '30', TablaCompleta['prov_id'])"
   ]
  },
  {
   "cell_type": "markdown",
   "metadata": {},
   "source": [
    "Paso siguiente: Reducir la granularidad (Pasar semanas -> meses)"
   ]
  },
  {
   "cell_type": "code",
   "execution_count": 22,
   "metadata": {},
   "outputs": [],
   "source": [
    "# Convierto las semanas a meses\n",
    "\n",
    "TablaCompleta['mes'] = TablaCompleta['semanas'].astype(int).apply(lambda x: calendar.month_name[((x - 1) // 4 + 1) % 12 or 12])\n",
    "\n",
    "# Elimino la columna semanas (Ya qué se volvió irrelevante)\n",
    "TablaCompleta = TablaCompleta.drop('semanas', axis=1)\n"
   ]
  },
  {
   "cell_type": "markdown",
   "metadata": {},
   "source": [
    "Una vez hecho esto; reviso cómo está quedando la TablaCompleta y la vuelvo a pasar a un csv:"
   ]
  },
  {
   "cell_type": "code",
   "execution_count": 23,
   "metadata": {},
   "outputs": [
    {
     "data": {
      "text/html": [
       "<div>\n",
       "<style scoped>\n",
       "    .dataframe tbody tr th:only-of-type {\n",
       "        vertical-align: middle;\n",
       "    }\n",
       "\n",
       "    .dataframe tbody tr th {\n",
       "        vertical-align: top;\n",
       "    }\n",
       "\n",
       "    .dataframe thead th {\n",
       "        text-align: right;\n",
       "    }\n",
       "</style>\n",
       "<table border=\"1\" class=\"dataframe\">\n",
       "  <thead>\n",
       "    <tr style=\"text-align: right;\">\n",
       "      <th></th>\n",
       "      <th>id_depto</th>\n",
       "      <th>depto</th>\n",
       "      <th>prov_id</th>\n",
       "      <th>prov</th>\n",
       "      <th>año</th>\n",
       "      <th>evento</th>\n",
       "      <th>edad_id</th>\n",
       "      <th>edad_desc</th>\n",
       "      <th>cantidad</th>\n",
       "      <th>mes</th>\n",
       "    </tr>\n",
       "  </thead>\n",
       "  <tbody>\n",
       "    <tr>\n",
       "      <th>1</th>\n",
       "      <td>06035</td>\n",
       "      <td>Avellaneda</td>\n",
       "      <td>06</td>\n",
       "      <td>Buenos Aires</td>\n",
       "      <td>2018</td>\n",
       "      <td>Dengue</td>\n",
       "      <td>6</td>\n",
       "      <td>De 15 a 24 años</td>\n",
       "      <td>1.0</td>\n",
       "      <td>February</td>\n",
       "    </tr>\n",
       "    <tr>\n",
       "      <th>2</th>\n",
       "      <td>06035</td>\n",
       "      <td>Avellaneda</td>\n",
       "      <td>06</td>\n",
       "      <td>Buenos Aires</td>\n",
       "      <td>2018</td>\n",
       "      <td>Dengue</td>\n",
       "      <td>9</td>\n",
       "      <td>De 45 A 64 Años</td>\n",
       "      <td>1.0</td>\n",
       "      <td>February</td>\n",
       "    </tr>\n",
       "    <tr>\n",
       "      <th>3</th>\n",
       "      <td>06035</td>\n",
       "      <td>Avellaneda</td>\n",
       "      <td>06</td>\n",
       "      <td>Buenos Aires</td>\n",
       "      <td>2018</td>\n",
       "      <td>Dengue</td>\n",
       "      <td>5</td>\n",
       "      <td>De 10 A 14 Años</td>\n",
       "      <td>1.0</td>\n",
       "      <td>March</td>\n",
       "    </tr>\n",
       "    <tr>\n",
       "      <th>4</th>\n",
       "      <td>06035</td>\n",
       "      <td>Avellaneda</td>\n",
       "      <td>06</td>\n",
       "      <td>Buenos Aires</td>\n",
       "      <td>2018</td>\n",
       "      <td>Dengue</td>\n",
       "      <td>6</td>\n",
       "      <td>De 15 a 24 años</td>\n",
       "      <td>1.0</td>\n",
       "      <td>March</td>\n",
       "    </tr>\n",
       "    <tr>\n",
       "      <th>5</th>\n",
       "      <td>06035</td>\n",
       "      <td>Avellaneda</td>\n",
       "      <td>06</td>\n",
       "      <td>Buenos Aires</td>\n",
       "      <td>2018</td>\n",
       "      <td>Dengue</td>\n",
       "      <td>7</td>\n",
       "      <td>De 25 A 34 Años</td>\n",
       "      <td>1.0</td>\n",
       "      <td>March</td>\n",
       "    </tr>\n",
       "    <tr>\n",
       "      <th>...</th>\n",
       "      <td>...</td>\n",
       "      <td>...</td>\n",
       "      <td>...</td>\n",
       "      <td>...</td>\n",
       "      <td>...</td>\n",
       "      <td>...</td>\n",
       "      <td>...</td>\n",
       "      <td>...</td>\n",
       "      <td>...</td>\n",
       "      <td>...</td>\n",
       "    </tr>\n",
       "    <tr>\n",
       "      <th>26961</th>\n",
       "      <td>34035</td>\n",
       "      <td>Patiño</td>\n",
       "      <td>34</td>\n",
       "      <td>Formosa</td>\n",
       "      <td>2024</td>\n",
       "      <td>Dengue</td>\n",
       "      <td>3</td>\n",
       "      <td>De 2 A 4 Años</td>\n",
       "      <td>1.0</td>\n",
       "      <td>March</td>\n",
       "    </tr>\n",
       "    <tr>\n",
       "      <th>26962</th>\n",
       "      <td>22091</td>\n",
       "      <td>Maipú</td>\n",
       "      <td>22</td>\n",
       "      <td>Chaco</td>\n",
       "      <td>2024</td>\n",
       "      <td>Dengue</td>\n",
       "      <td>7</td>\n",
       "      <td>De 25 A 34 Años</td>\n",
       "      <td>1.0</td>\n",
       "      <td>January</td>\n",
       "    </tr>\n",
       "    <tr>\n",
       "      <th>26963</th>\n",
       "      <td>22014</td>\n",
       "      <td>Bermejo</td>\n",
       "      <td>22</td>\n",
       "      <td>Chaco</td>\n",
       "      <td>2024</td>\n",
       "      <td>Dengue</td>\n",
       "      <td>4</td>\n",
       "      <td>De 5 A 9 Años</td>\n",
       "      <td>1.0</td>\n",
       "      <td>May</td>\n",
       "    </tr>\n",
       "    <tr>\n",
       "      <th>26964</th>\n",
       "      <td>22043</td>\n",
       "      <td>Fray Justo Santa María De Oro</td>\n",
       "      <td>22</td>\n",
       "      <td>Chaco</td>\n",
       "      <td>2024</td>\n",
       "      <td>Dengue</td>\n",
       "      <td>7</td>\n",
       "      <td>De 25 A 34 Años</td>\n",
       "      <td>1.0</td>\n",
       "      <td>March</td>\n",
       "    </tr>\n",
       "    <tr>\n",
       "      <th>26965</th>\n",
       "      <td>22084</td>\n",
       "      <td>Libertador General San Martín</td>\n",
       "      <td>22</td>\n",
       "      <td>Chaco</td>\n",
       "      <td>2024</td>\n",
       "      <td>Dengue</td>\n",
       "      <td>3</td>\n",
       "      <td>1 a 2 años</td>\n",
       "      <td>1.0</td>\n",
       "      <td>January</td>\n",
       "    </tr>\n",
       "  </tbody>\n",
       "</table>\n",
       "<p>44826 rows × 10 columns</p>\n",
       "</div>"
      ],
      "text/plain": [
       "      id_depto                          depto prov_id          prov   año  \\\n",
       "1        06035                     Avellaneda      06  Buenos Aires  2018   \n",
       "2        06035                     Avellaneda      06  Buenos Aires  2018   \n",
       "3        06035                     Avellaneda      06  Buenos Aires  2018   \n",
       "4        06035                     Avellaneda      06  Buenos Aires  2018   \n",
       "5        06035                     Avellaneda      06  Buenos Aires  2018   \n",
       "...        ...                            ...     ...           ...   ...   \n",
       "26961    34035                         Patiño      34       Formosa  2024   \n",
       "26962    22091                          Maipú      22         Chaco  2024   \n",
       "26963    22014                        Bermejo      22         Chaco  2024   \n",
       "26964    22043  Fray Justo Santa María De Oro      22         Chaco  2024   \n",
       "26965    22084  Libertador General San Martín      22         Chaco  2024   \n",
       "\n",
       "       evento edad_id        edad_desc  cantidad       mes  \n",
       "1      Dengue       6  De 15 a 24 años       1.0  February  \n",
       "2      Dengue       9  De 45 A 64 Años       1.0  February  \n",
       "3      Dengue       5  De 10 A 14 Años       1.0     March  \n",
       "4      Dengue       6  De 15 a 24 años       1.0     March  \n",
       "5      Dengue       7  De 25 A 34 Años       1.0     March  \n",
       "...       ...     ...              ...       ...       ...  \n",
       "26961  Dengue       3    De 2 A 4 Años       1.0     March  \n",
       "26962  Dengue       7  De 25 A 34 Años       1.0   January  \n",
       "26963  Dengue       4    De 5 A 9 Años       1.0       May  \n",
       "26964  Dengue       7  De 25 A 34 Años       1.0     March  \n",
       "26965  Dengue       3       1 a 2 años       1.0   January  \n",
       "\n",
       "[44826 rows x 10 columns]"
      ]
     },
     "execution_count": 23,
     "metadata": {},
     "output_type": "execute_result"
    }
   ],
   "source": [
    "TablaCompleta"
   ]
  },
  {
   "cell_type": "code",
   "execution_count": 24,
   "metadata": {},
   "outputs": [],
   "source": [
    "TablaCompleta.to_csv(\"CSVs Creados/TablaCompleta.csv\", index=False)"
   ]
  },
  {
   "cell_type": "markdown",
   "metadata": {},
   "source": [
    "# Siguientes objetivos:\n",
    "\n",
    "1) Añadir Dataset de lluvias, humedad y de temperaturas por provincia (o departamento) anualizado para el período que cubren los datasets de dengue. (2018 - 2024) (Esperando respuesta del SMN) Respuesta recibida el lunes. Integración de las nuevas tablas al trabajo para la próxima entrega.\n",
    "\n",
    "2) Normalizar todas las tablas\n",
    "\n",
    "3) Gráficos y Análisis Exploratorio\n",
    "\n",
    "4) Reconocimiento de patrones (clasificación, regresión, clustering, etc) \n",
    "\n",
    "5) Evaluación e interpretación de métricas\n",
    "\n",
    "6) Armar modelo predictivo y gráficos finales\n",
    "\n",
    "7) Dashboard"
   ]
  },
  {
   "cell_type": "markdown",
   "metadata": {},
   "source": [
    "# Acá van a ir las transformaciones necesarias para incluir los datos del SMN  "
   ]
  },
  {
   "cell_type": "markdown",
   "metadata": {},
   "source": [
    "# Normalizo las tablas:"
   ]
  },
  {
   "cell_type": "markdown",
   "metadata": {},
   "source": [
    "### Se crean los df nuevos"
   ]
  },
  {
   "cell_type": "code",
   "execution_count": 25,
   "metadata": {},
   "outputs": [],
   "source": [
    "Provincias = TablaCompleta[['prov_id', 'prov']].drop_duplicates().reset_index(drop = True).sort_values(by='prov_id')\n",
    "Departamentos = TablaCompleta[['id_depto', 'depto']].drop_duplicates().reset_index(drop = True).sort_values(by='id_depto')\n",
    "Edades = TablaCompleta[['edad_id', 'edad_desc']].drop_duplicates().reset_index(drop=True).sort_values(by='edad_id')\n",
    "Eventos = TablaCompleta[['evento']].drop_duplicates().reset_index(drop = True)\n",
    "Reportes = TablaCompleta[['prov_id','id_depto', 'año', 'mes', 'evento', 'edad_id', 'cantidad']]\n",
    "Reportes['id_reporte'] = range(1, len(Reportes) + 1)"
   ]
  },
  {
   "cell_type": "code",
   "execution_count": 26,
   "metadata": {},
   "outputs": [
    {
     "data": {
      "text/html": [
       "<div>\n",
       "<style scoped>\n",
       "    .dataframe tbody tr th:only-of-type {\n",
       "        vertical-align: middle;\n",
       "    }\n",
       "\n",
       "    .dataframe tbody tr th {\n",
       "        vertical-align: top;\n",
       "    }\n",
       "\n",
       "    .dataframe thead th {\n",
       "        text-align: right;\n",
       "    }\n",
       "</style>\n",
       "<table border=\"1\" class=\"dataframe\">\n",
       "  <thead>\n",
       "    <tr style=\"text-align: right;\">\n",
       "      <th></th>\n",
       "      <th>id_depto</th>\n",
       "      <th>depto</th>\n",
       "    </tr>\n",
       "  </thead>\n",
       "  <tbody>\n",
       "    <tr>\n",
       "      <th>50</th>\n",
       "      <td>34028</td>\n",
       "      <td>Matacos</td>\n",
       "    </tr>\n",
       "    <tr>\n",
       "      <th>404</th>\n",
       "      <td>78049</td>\n",
       "      <td>Río Chico</td>\n",
       "    </tr>\n",
       "    <tr>\n",
       "      <th>369</th>\n",
       "      <td>90070</td>\n",
       "      <td>Monteros</td>\n",
       "    </tr>\n",
       "    <tr>\n",
       "      <th>381</th>\n",
       "      <td>50098</td>\n",
       "      <td>San Martín</td>\n",
       "    </tr>\n",
       "    <tr>\n",
       "      <th>212</th>\n",
       "      <td>10091</td>\n",
       "      <td>Santa María</td>\n",
       "    </tr>\n",
       "  </tbody>\n",
       "</table>\n",
       "</div>"
      ],
      "text/plain": [
       "    id_depto        depto\n",
       "50     34028      Matacos\n",
       "404    78049    Río Chico\n",
       "369    90070     Monteros\n",
       "381    50098   San Martín\n",
       "212    10091  Santa María"
      ]
     },
     "execution_count": 26,
     "metadata": {},
     "output_type": "execute_result"
    }
   ],
   "source": [
    "Departamentos.sample(5)"
   ]
  },
  {
   "cell_type": "markdown",
   "metadata": {},
   "source": [
    "### Se exportan los df normalizados como csv:"
   ]
  },
  {
   "cell_type": "code",
   "execution_count": 27,
   "metadata": {},
   "outputs": [],
   "source": [
    "Provincias.to_csv('CSVs Creados/Provincias.csv', index=False)\n",
    "Departamentos.to_csv('CSVs Creados/Departamentos.csv', index=False)\n",
    "Edades.to_csv('CSVs Creados/Edades.csv', index=False)\n",
    "Eventos.to_csv('CSVs Creados/Eventos.csv', index=False)\n",
    "Reportes.to_csv('CSVs Creados/Reportes.csv', index=False)"
   ]
  },
  {
   "cell_type": "markdown",
   "metadata": {},
   "source": [
    "# Gráficos y Analisis exploratorio"
   ]
  },
  {
   "cell_type": "code",
   "execution_count": 28,
   "metadata": {},
   "outputs": [
    {
     "data": {
      "text/plain": [
       "prov_id\n",
       "06    8165\n",
       "22    5692\n",
       "66    3571\n",
       "54    3508\n",
       "82    3326\n",
       "14    2924\n",
       "02    2544\n",
       "34    2519\n",
       "90    2450\n",
       "18    1780\n",
       "30    1566\n",
       "38    1342\n",
       "86    1275\n",
       "10     964\n",
       "46     864\n",
       "50     560\n",
       "70     541\n",
       "74     385\n",
       "42     221\n",
       "78     198\n",
       "94     144\n",
       "26     112\n",
       "58     111\n",
       "62      64\n",
       "Name: count, dtype: int64"
      ]
     },
     "execution_count": 28,
     "metadata": {},
     "output_type": "execute_result"
    }
   ],
   "source": [
    "CantProv = Reportes['prov_id'].value_counts()\n",
    "CantProv"
   ]
  },
  {
   "cell_type": "code",
   "execution_count": 29,
   "metadata": {},
   "outputs": [
    {
     "data": {
      "image/png": "[encoded data removed]",
      "text/plain": [
       "<Figure size 432x288 with 1 Axes>"
      ]
     },
     "metadata": {
      "needs_background": "light"
     },
     "output_type": "display_data"
    }
   ],
   "source": [
    "CantProv.columns = ['prov_id', 'count']\n",
    "\n",
    "# Junto los dataframes para que se vean los nombres de las provincias en vez de los ids\n",
    "CantProv_por_prov = pd.merge(CantProv, Provincias, on='prov_id', how='left')\n",
    "CantProv_por_prov['prov'] = CantProv_por_prov['prov'].astype('category')\n",
    "\n",
    "paleta = sns.color_palette(\"husl\", len(CantProv_por_prov['prov'].unique()))\n",
    "\n",
    "# Armo el gráfico con seaborn\n",
    "sns.barplot(data=CantProv_por_prov, x='prov', y='count', palette=paleta, order=CantProv_por_prov.sort_values('count', ascending=False)['prov'])\n",
    "\n",
    "plt.title('Casos por Provincia')\n",
    "plt.xlabel('Provincias')\n",
    "plt.ylabel('Casos')\n",
    "plt.xticks(rotation=90)\n",
    "plt.show()\n"
   ]
  },
  {
   "cell_type": "markdown",
   "metadata": {},
   "source": [
    "Vemos que la mayoría de casos reportados son en PBA, directamente seguidos por Chaco y Salta"
   ]
  },
  {
   "cell_type": "markdown",
   "metadata": {},
   "source": [
    "Siguente gráfico: Casos sobre tiempo"
   ]
  },
  {
   "cell_type": "code",
   "execution_count": 30,
   "metadata": {},
   "outputs": [
    {
     "data": {
      "text/html": [
       "<div>\n",
       "<style scoped>\n",
       "    .dataframe tbody tr th:only-of-type {\n",
       "        vertical-align: middle;\n",
       "    }\n",
       "\n",
       "    .dataframe tbody tr th {\n",
       "        vertical-align: top;\n",
       "    }\n",
       "\n",
       "    .dataframe thead th {\n",
       "        text-align: right;\n",
       "    }\n",
       "</style>\n",
       "<table border=\"1\" class=\"dataframe\">\n",
       "  <thead>\n",
       "    <tr style=\"text-align: right;\">\n",
       "      <th></th>\n",
       "      <th>Mes</th>\n",
       "      <th>año</th>\n",
       "      <th>Cantidad</th>\n",
       "      <th>Cuatrimestre</th>\n",
       "      <th>Cuatrimestre Completo</th>\n",
       "    </tr>\n",
       "  </thead>\n",
       "  <tbody>\n",
       "    <tr>\n",
       "      <th>1</th>\n",
       "      <td>2</td>\n",
       "      <td>2018</td>\n",
       "      <td>1</td>\n",
       "      <td>1</td>\n",
       "      <td>2018 Q1</td>\n",
       "    </tr>\n",
       "    <tr>\n",
       "      <th>2</th>\n",
       "      <td>2</td>\n",
       "      <td>2018</td>\n",
       "      <td>1</td>\n",
       "      <td>1</td>\n",
       "      <td>2018 Q1</td>\n",
       "    </tr>\n",
       "    <tr>\n",
       "      <th>3</th>\n",
       "      <td>3</td>\n",
       "      <td>2018</td>\n",
       "      <td>1</td>\n",
       "      <td>1</td>\n",
       "      <td>2018 Q1</td>\n",
       "    </tr>\n",
       "    <tr>\n",
       "      <th>4</th>\n",
       "      <td>3</td>\n",
       "      <td>2018</td>\n",
       "      <td>1</td>\n",
       "      <td>1</td>\n",
       "      <td>2018 Q1</td>\n",
       "    </tr>\n",
       "    <tr>\n",
       "      <th>5</th>\n",
       "      <td>3</td>\n",
       "      <td>2018</td>\n",
       "      <td>1</td>\n",
       "      <td>1</td>\n",
       "      <td>2018 Q1</td>\n",
       "    </tr>\n",
       "    <tr>\n",
       "      <th>...</th>\n",
       "      <td>...</td>\n",
       "      <td>...</td>\n",
       "      <td>...</td>\n",
       "      <td>...</td>\n",
       "      <td>...</td>\n",
       "    </tr>\n",
       "    <tr>\n",
       "      <th>26961</th>\n",
       "      <td>3</td>\n",
       "      <td>2024</td>\n",
       "      <td>1</td>\n",
       "      <td>1</td>\n",
       "      <td>2024 Q1</td>\n",
       "    </tr>\n",
       "    <tr>\n",
       "      <th>26962</th>\n",
       "      <td>1</td>\n",
       "      <td>2024</td>\n",
       "      <td>1</td>\n",
       "      <td>1</td>\n",
       "      <td>2024 Q1</td>\n",
       "    </tr>\n",
       "    <tr>\n",
       "      <th>26963</th>\n",
       "      <td>5</td>\n",
       "      <td>2024</td>\n",
       "      <td>1</td>\n",
       "      <td>2</td>\n",
       "      <td>2024 Q2</td>\n",
       "    </tr>\n",
       "    <tr>\n",
       "      <th>26964</th>\n",
       "      <td>3</td>\n",
       "      <td>2024</td>\n",
       "      <td>1</td>\n",
       "      <td>1</td>\n",
       "      <td>2024 Q1</td>\n",
       "    </tr>\n",
       "    <tr>\n",
       "      <th>26965</th>\n",
       "      <td>1</td>\n",
       "      <td>2024</td>\n",
       "      <td>1</td>\n",
       "      <td>1</td>\n",
       "      <td>2024 Q1</td>\n",
       "    </tr>\n",
       "  </tbody>\n",
       "</table>\n",
       "<p>44826 rows × 5 columns</p>\n",
       "</div>"
      ],
      "text/plain": [
       "       Mes   año  Cantidad  Cuatrimestre Cuatrimestre Completo\n",
       "1        2  2018         1             1               2018 Q1\n",
       "2        2  2018         1             1               2018 Q1\n",
       "3        3  2018         1             1               2018 Q1\n",
       "4        3  2018         1             1               2018 Q1\n",
       "5        3  2018         1             1               2018 Q1\n",
       "...    ...   ...       ...           ...                   ...\n",
       "26961    3  2024         1             1               2024 Q1\n",
       "26962    1  2024         1             1               2024 Q1\n",
       "26963    5  2024         1             2               2024 Q2\n",
       "26964    3  2024         1             1               2024 Q1\n",
       "26965    1  2024         1             1               2024 Q1\n",
       "\n",
       "[44826 rows x 5 columns]"
      ]
     },
     "execution_count": 30,
     "metadata": {},
     "output_type": "execute_result"
    }
   ],
   "source": [
    "def month_name_to_number(month_name):\n",
    "    month_abbr = month_name[:3].capitalize()\n",
    "    return list(calendar.month_abbr).index(month_abbr) \n",
    "\n",
    "Meses = Reportes['mes'].apply(month_name_to_number)\n",
    "# Convert 'Mes' column to datetime format for months\n",
    "Meses = pd.to_datetime(Meses, format='%m').dt.month\n",
    "\n",
    "# Assuming you have already executed the previous code to get 'Meses'\n",
    "\n",
    "# Convert 'Meses' to a pandas Series if it's not already\n",
    "Meses = pd.Series(Meses)\n",
    "\n",
    "# Create a new DataFrame 'df_analisis' with 'Mes' and 'año'\n",
    "df_analisis = pd.DataFrame({'Mes': Meses, 'año': Reportes['año'], 'Cantidad': Reportes['cantidad'].astype(int)})\n",
    "\n",
    "# Convert 'Mes' column to datetime format for months\n",
    "df_analisis['Mes'] = pd.to_datetime(df_analisis['Mes'], format='%m').dt.month\n",
    "\n",
    "\n",
    "# Create a new column 'quarter' with correct quarter values\n",
    "df_analisis['Cuatrimestre'] = df_analisis['Mes'].apply(lambda x: (x - 1) // 3 + 1)\n",
    "\n",
    "# Create a new column 'quarter' with correct quarter values and year\n",
    "df_analisis['Cuatrimestre Completo'] = df_analisis.apply(lambda row: f\"{row['año']} Q{(row['Mes'] - 1) // 3 + 1}\", axis=1)\n",
    "\n",
    "df_analisis\n"
   ]
  },
  {
   "cell_type": "code",
   "execution_count": 31,
   "metadata": {},
   "outputs": [
    {
     "name": "stdout",
     "output_type": "stream",
     "text": [
      "(44826, 5)\n",
      "object\n",
      "int64\n"
     ]
    },
    {
     "data": {
      "text/plain": [
       "([0,\n",
       "  1,\n",
       "  2,\n",
       "  3,\n",
       "  4,\n",
       "  5,\n",
       "  6,\n",
       "  7,\n",
       "  8,\n",
       "  9,\n",
       "  10,\n",
       "  11,\n",
       "  12,\n",
       "  13,\n",
       "  14,\n",
       "  15,\n",
       "  16,\n",
       "  17,\n",
       "  18,\n",
       "  19,\n",
       "  20,\n",
       "  21,\n",
       "  22,\n",
       "  23],\n",
       " [Text(0, 0, '2018 Q1'),\n",
       "  Text(1, 0, '2018 Q2'),\n",
       "  Text(2, 0, '2018 Q3'),\n",
       "  Text(3, 0, '2018 Q4'),\n",
       "  Text(4, 0, '2019 Q1'),\n",
       "  Text(5, 0, '2019 Q2'),\n",
       "  Text(6, 0, '2019 Q3'),\n",
       "  Text(7, 0, '2019 Q4'),\n",
       "  Text(8, 0, '2020 Q1'),\n",
       "  Text(9, 0, '2020 Q2'),\n",
       "  Text(10, 0, '2020 Q4'),\n",
       "  Text(11, 0, '2020 Q3'),\n",
       "  Text(12, 0, '2021 Q1'),\n",
       "  Text(13, 0, '2021 Q2'),\n",
       "  Text(14, 0, '2021 Q3'),\n",
       "  Text(15, 0, '2022 Q1'),\n",
       "  Text(16, 0, '2022 Q2'),\n",
       "  Text(17, 0, '2022 Q4'),\n",
       "  Text(18, 0, '2022 Q3'),\n",
       "  Text(19, 0, '2023 Q4'),\n",
       "  Text(20, 0, '2023 Q3'),\n",
       "  Text(21, 0, '2023 Q1'),\n",
       "  Text(22, 0, '2024 Q2'),\n",
       "  Text(23, 0, '2024 Q1')])"
      ]
     },
     "execution_count": 31,
     "metadata": {},
     "output_type": "execute_result"
    },
    {
     "data": {
      "image/png": "[encoded data removed]",
      "text/plain": [
       "<Figure size 432x288 with 1 Axes>"
      ]
     },
     "metadata": {
      "needs_background": "light"
     },
     "output_type": "display_data"
    }
   ],
   "source": [
    "print(df_analisis.shape)\n",
    "print(df_analisis['Cuatrimestre Completo'].dtype)\n",
    "print(df_analisis['Cantidad'].dtype)\n",
    "\n",
    "df_analisis.to_numpy()\n",
    "\n",
    "sns.lineplot(data=df_analisis, x='Cuatrimestre Completo', y='Cantidad')\n",
    "plt.xticks(rotation=25)\n",
    "\n"
   ]
  }
 ],
 "metadata": {
  "kernelspec": {
   "display_name": "Python 3",
   "language": "python",
   "name": "python3"
  },
  "language_info": {
   "codemirror_mode": {
    "name": "ipython",
    "version": 3
   },
   "file_extension": ".py",
   "mimetype": "text/x-python",
   "name": "python",
   "nbconvert_exporter": "python",
   "pygments_lexer": "ipython3",
   "version": "3.10.12"
  }
 },
 "nbformat": 4,
 "nbformat_minor": 2
}
