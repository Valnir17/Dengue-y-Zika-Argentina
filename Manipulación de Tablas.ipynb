{
 "cells": [
  {
   "cell_type": "markdown",
   "metadata": {},
   "source": [
    "Arranco importando pandas y metiendo los csv como dataframes."
   ]
  },
  {
   "cell_type": "code",
   "execution_count": 1,
   "metadata": {},
   "outputs": [],
   "source": [
    "import pandas as pd\n",
    "import numpy as np\n",
    "import re\n",
    "import seaborn as sns"
   ]
  },
  {
   "cell_type": "code",
   "execution_count": 2,
   "metadata": {},
   "outputs": [],
   "source": [
    "df20182 = pd.read_csv(r\"Dengue, Zika 2018 - 2.csv\")\n",
    "df2018 = pd.read_csv(r\"Dengue, Zika 2018.csv\")\n",
    "df2019 = pd.read_csv(r\"Dengue, Zika 2019.csv\")\n",
    "df2020 = pd.read_csv(r\"Dengue, Zika 2020.csv\")\n",
    "df2021 = pd.read_csv(r\"Dengue, Zika 2021.csv\")\n",
    "df2022 = pd.read_csv(r\"Dengue, Zika 2022.csv\")\n",
    "df2023 = pd.read_csv(r\"Dengue, Zika 2023.csv\")\n",
    "df2024 = pd.read_csv(r\"Dengue, Zika 2024.csv\")"
   ]
  },
  {
   "cell_type": "markdown",
   "metadata": {},
   "source": [
    "Estandarizo el formato de prov_id y de id_depto dependiendo de si están fusionados o no en su csv."
   ]
  },
  {
   "cell_type": "code",
   "execution_count": 3,
   "metadata": {},
   "outputs": [],
   "source": [
    "### Hago String a todos los id_depto y prov_id de 2018\n",
    "\n",
    "df2018['id_depto'] = df2018['id_depto'].values.astype(str)\n",
    "df2018[\"prov_id\"] = df2018[\"prov_id\"].map(str)\n",
    "\n",
    "### Aplico el zfill\n",
    "\n",
    "df2018['id_depto'] = df2018['id_depto'].str.zfill(5)\n",
    "df2018[\"prov_id\"] = df2018 [\"prov_id\"].str.zfill(2)\n",
    "\n",
    "### Hago String a todos los id_depto y prov_id de 2018-2\n",
    "\n",
    "df20182[\"id_depto\"] = df20182[\"id_depto\"].astype(str)\n",
    "df20182[\"prov_id\"] = df20182[\"prov_id\"].astype(str)\n",
    "\n",
    "### Aplico el zfill\n",
    "\n",
    "df20182['id_depto'] = df20182['id_depto'].str.zfill(3)\n",
    "df20182['prov_id'] = df20182['prov_id'].str.zfill(2)\n",
    "\n",
    "### Hago String a todos los id_depto y prov_id de 2019\n",
    "\n",
    "\n",
    "df2019[\"id_depto\"] = df2019[\"id_depto\"].astype(str)\n",
    "df2019[\"prov_id\"] = df2019[\"prov_id\"].astype(str)\n",
    "\n",
    "### Aplico el zfill\n",
    "\n",
    "df2019['id_depto'] = df2019['id_depto'].str.zfill(5)\n",
    "df2019[\"prov_id\"] = df2019 [\"prov_id\"].str.zfill(2)\n",
    "\n",
    "### Hago String a todos los id_depto y prov_id de 2020\n",
    "\n",
    "df2020[\"id_depto\"] = df2020[\"id_depto\"].astype(str)\n",
    "df2020[\"prov_id\"] = df2020[\"prov_id\"].astype(str)\n",
    "\n",
    "### Aplico el zfill\n",
    "\n",
    "df2020[\"id_depto\"] = df2020 [\"id_depto\"].str.zfill(5)\n",
    "df2020[\"prov_id\"] = df2020 [\"prov_id\"].str.zfill(2)\n",
    "\n",
    "### Hago String a todos los id_depto y prov_id de 2021\n",
    "\n",
    "df2021[\"id_depto\"] = df2021[\"id_depto\"].astype(str)\n",
    "df2021[\"prov_id\"] = df2021[\"prov_id\"].astype(str)\n",
    "\n",
    "### Aplico el zfill\n",
    "\n",
    "df2021[\"id_depto\"] = df2021 [\"id_depto\"].str.zfill(5)\n",
    "df2021[\"prov_id\"] = df2021 [\"prov_id\"].str.zfill(2)\n",
    "\n",
    "### Hago String a todos los id_depto y prov_id de 2022\n",
    "\n",
    "df2022[\"id_depto\"] = df2022[\"id_depto\"].astype(str)\n",
    "df2022[\"prov_id\"] = df2022[\"prov_id\"].astype(str)\n",
    "\n",
    "### Aplico el zfill\n",
    "\n",
    "df2022[\"id_depto\"] = df2022 [\"id_depto\"].str.zfill(3)\n",
    "df2022[\"prov_id\"] = df2022 [\"prov_id\"].str.zfill(2)\n",
    "\n",
    "### Hago String a todos los id_depto y prov_id de 2023\n",
    "\n",
    "df2023[\"id_depto\"] = df2023[\"id_depto\"].astype(str)\n",
    "df2023[\"prov_id\"] = df2023[\"prov_id\"].astype(str)\n",
    "\n",
    "### Aplico el zfill\n",
    "\n",
    "df2023[\"id_depto\"] = df2023 [\"id_depto\"].str.zfill(5)\n",
    "df2023[\"prov_id\"] = df2023 [\"prov_id\"].str.zfill(2)\n",
    "\n",
    "### Hago String a todos los id_depto y prov_id de 2024\n",
    "\n",
    "df2024[\"id_depto\"] = df2024[\"id_depto\"].astype(str)\n",
    "df2024[\"prov_id\"] = df2024[\"prov_id\"].astype(str)\n",
    "\n",
    "### Aplico el zfill\n",
    "\n",
    "df2024[\"id_depto\"] = df2024 [\"id_depto\"].str.zfill(3)\n",
    "df2024[\"prov_id\"] = df2024 [\"prov_id\"].str.zfill(2)"
   ]
  },
  {
   "cell_type": "markdown",
   "metadata": {},
   "source": [
    "Concateno todos los df en uno sólo:"
   ]
  },
  {
   "cell_type": "code",
   "execution_count": 4,
   "metadata": {},
   "outputs": [],
   "source": [
    "TablaCompleta = pd.concat([df20182, df2018, df2019, df2020, df2021, df2022, df2023, df2024])"
   ]
  },
  {
   "cell_type": "code",
   "execution_count": 5,
   "metadata": {},
   "outputs": [
    {
     "data": {
      "text/html": [
       "<div>\n",
       "<style scoped>\n",
       "    .dataframe tbody tr th:only-of-type {\n",
       "        vertical-align: middle;\n",
       "    }\n",
       "\n",
       "    .dataframe tbody tr th {\n",
       "        vertical-align: top;\n",
       "    }\n",
       "\n",
       "    .dataframe thead th {\n",
       "        text-align: right;\n",
       "    }\n",
       "</style>\n",
       "<table border=\"1\" class=\"dataframe\">\n",
       "  <thead>\n",
       "    <tr style=\"text-align: right;\">\n",
       "      <th></th>\n",
       "      <th>id_depto</th>\n",
       "      <th>depto</th>\n",
       "      <th>prov_id</th>\n",
       "      <th>prov</th>\n",
       "      <th>año</th>\n",
       "      <th>semanas</th>\n",
       "      <th>evento</th>\n",
       "      <th>edad_id</th>\n",
       "      <th>edad_desc</th>\n",
       "      <th>cantidad</th>\n",
       "    </tr>\n",
       "  </thead>\n",
       "  <tbody>\n",
       "    <tr>\n",
       "      <th>0</th>\n",
       "      <td>000</td>\n",
       "      <td>*sin dato*</td>\n",
       "      <td>06</td>\n",
       "      <td>Buenos Aires</td>\n",
       "      <td>2018</td>\n",
       "      <td>11</td>\n",
       "      <td>Dengue</td>\n",
       "      <td>10</td>\n",
       "      <td>De 45 a 64 años</td>\n",
       "      <td>1.0</td>\n",
       "    </tr>\n",
       "    <tr>\n",
       "      <th>1</th>\n",
       "      <td>035</td>\n",
       "      <td>Avellaneda</td>\n",
       "      <td>06</td>\n",
       "      <td>Buenos Aires</td>\n",
       "      <td>2018</td>\n",
       "      <td>7</td>\n",
       "      <td>Dengue</td>\n",
       "      <td>8</td>\n",
       "      <td>De 20 a 24 años</td>\n",
       "      <td>1.0</td>\n",
       "    </tr>\n",
       "    <tr>\n",
       "      <th>2</th>\n",
       "      <td>035</td>\n",
       "      <td>Avellaneda</td>\n",
       "      <td>06</td>\n",
       "      <td>Buenos Aires</td>\n",
       "      <td>2018</td>\n",
       "      <td>7</td>\n",
       "      <td>Dengue</td>\n",
       "      <td>10</td>\n",
       "      <td>De 45 a 64 años</td>\n",
       "      <td>1.0</td>\n",
       "    </tr>\n",
       "    <tr>\n",
       "      <th>3</th>\n",
       "      <td>035</td>\n",
       "      <td>Avellaneda</td>\n",
       "      <td>06</td>\n",
       "      <td>Buenos Aires</td>\n",
       "      <td>2018</td>\n",
       "      <td>9</td>\n",
       "      <td>Dengue</td>\n",
       "      <td>6</td>\n",
       "      <td>De 10 a 14 años</td>\n",
       "      <td>1.0</td>\n",
       "    </tr>\n",
       "    <tr>\n",
       "      <th>4</th>\n",
       "      <td>035</td>\n",
       "      <td>Avellaneda</td>\n",
       "      <td>06</td>\n",
       "      <td>Buenos Aires</td>\n",
       "      <td>2018</td>\n",
       "      <td>9</td>\n",
       "      <td>Dengue</td>\n",
       "      <td>8</td>\n",
       "      <td>De 20 a 24 años</td>\n",
       "      <td>1.0</td>\n",
       "    </tr>\n",
       "    <tr>\n",
       "      <th>...</th>\n",
       "      <td>...</td>\n",
       "      <td>...</td>\n",
       "      <td>...</td>\n",
       "      <td>...</td>\n",
       "      <td>...</td>\n",
       "      <td>...</td>\n",
       "      <td>...</td>\n",
       "      <td>...</td>\n",
       "      <td>...</td>\n",
       "      <td>...</td>\n",
       "    </tr>\n",
       "    <tr>\n",
       "      <th>26961</th>\n",
       "      <td>035</td>\n",
       "      <td>Patiño</td>\n",
       "      <td>34</td>\n",
       "      <td>Formosa</td>\n",
       "      <td>2024</td>\n",
       "      <td>10</td>\n",
       "      <td>Dengue</td>\n",
       "      <td>4</td>\n",
       "      <td>De 2 a 4 años</td>\n",
       "      <td>1.0</td>\n",
       "    </tr>\n",
       "    <tr>\n",
       "      <th>26962</th>\n",
       "      <td>091</td>\n",
       "      <td>Maipú</td>\n",
       "      <td>22</td>\n",
       "      <td>Chaco</td>\n",
       "      <td>2024</td>\n",
       "      <td>1</td>\n",
       "      <td>Dengue</td>\n",
       "      <td>9</td>\n",
       "      <td>De 25 a 34 años</td>\n",
       "      <td>1.0</td>\n",
       "    </tr>\n",
       "    <tr>\n",
       "      <th>26963</th>\n",
       "      <td>014</td>\n",
       "      <td>Bermejo</td>\n",
       "      <td>22</td>\n",
       "      <td>Chaco</td>\n",
       "      <td>2024</td>\n",
       "      <td>17</td>\n",
       "      <td>Dengue</td>\n",
       "      <td>5</td>\n",
       "      <td>De 5 a 9 años</td>\n",
       "      <td>1.0</td>\n",
       "    </tr>\n",
       "    <tr>\n",
       "      <th>26964</th>\n",
       "      <td>043</td>\n",
       "      <td>Fray Justo Santa María de Oro</td>\n",
       "      <td>22</td>\n",
       "      <td>Chaco</td>\n",
       "      <td>2024</td>\n",
       "      <td>12</td>\n",
       "      <td>Dengue</td>\n",
       "      <td>9</td>\n",
       "      <td>De 25 a 34 años</td>\n",
       "      <td>1.0</td>\n",
       "    </tr>\n",
       "    <tr>\n",
       "      <th>26965</th>\n",
       "      <td>084</td>\n",
       "      <td>Libertador General San Martín</td>\n",
       "      <td>22</td>\n",
       "      <td>Chaco</td>\n",
       "      <td>2024</td>\n",
       "      <td>4</td>\n",
       "      <td>Dengue</td>\n",
       "      <td>3</td>\n",
       "      <td>De 13 a 24 meses</td>\n",
       "      <td>1.0</td>\n",
       "    </tr>\n",
       "  </tbody>\n",
       "</table>\n",
       "<p>45860 rows × 10 columns</p>\n",
       "</div>"
      ],
      "text/plain": [
       "      id_depto                          depto prov_id          prov   año  \\\n",
       "0          000                     *sin dato*      06  Buenos Aires  2018   \n",
       "1          035                     Avellaneda      06  Buenos Aires  2018   \n",
       "2          035                     Avellaneda      06  Buenos Aires  2018   \n",
       "3          035                     Avellaneda      06  Buenos Aires  2018   \n",
       "4          035                     Avellaneda      06  Buenos Aires  2018   \n",
       "...        ...                            ...     ...           ...   ...   \n",
       "26961      035                         Patiño      34       Formosa  2024   \n",
       "26962      091                          Maipú      22         Chaco  2024   \n",
       "26963      014                        Bermejo      22         Chaco  2024   \n",
       "26964      043  Fray Justo Santa María de Oro      22         Chaco  2024   \n",
       "26965      084  Libertador General San Martín      22         Chaco  2024   \n",
       "\n",
       "      semanas  evento edad_id         edad_desc  cantidad  \n",
       "0          11  Dengue      10   De 45 a 64 años       1.0  \n",
       "1           7  Dengue       8   De 20 a 24 años       1.0  \n",
       "2           7  Dengue      10   De 45 a 64 años       1.0  \n",
       "3           9  Dengue       6   De 10 a 14 años       1.0  \n",
       "4           9  Dengue       8   De 20 a 24 años       1.0  \n",
       "...       ...     ...     ...               ...       ...  \n",
       "26961      10  Dengue       4     De 2 a 4 años       1.0  \n",
       "26962       1  Dengue       9   De 25 a 34 años       1.0  \n",
       "26963      17  Dengue       5     De 5 a 9 años       1.0  \n",
       "26964      12  Dengue       9   De 25 a 34 años       1.0  \n",
       "26965       4  Dengue       3  De 13 a 24 meses       1.0  \n",
       "\n",
       "[45860 rows x 10 columns]"
      ]
     },
     "execution_count": 5,
     "metadata": {},
     "output_type": "execute_result"
    }
   ],
   "source": [
    "TablaCompleta"
   ]
  },
  {
   "cell_type": "markdown",
   "metadata": {},
   "source": [
    "Termino de estandarizar el formato de id_depto agregandole prov_id a todos los id_depto donde no estaba originalmente"
   ]
  },
  {
   "cell_type": "code",
   "execution_count": 6,
   "metadata": {},
   "outputs": [],
   "source": [
    "# Encuentro dónde tiene una longitud de 3 caracteres\n",
    "idcorto = TablaCompleta['id_depto'].str.len() == 3\n",
    "\n",
    "# Junto los prov_id con el id_depto en las id_depto donde tiene una longitud de 3 caracteres\n",
    "TablaCompleta.loc[idcorto, 'id_depto'] =  TablaCompleta.loc[idcorto, 'prov_id'] + TablaCompleta.loc[idcorto, 'id_depto']"
   ]
  },
  {
   "cell_type": "markdown",
   "metadata": {},
   "source": [
    "Info (para ver los elementos no nulos)"
   ]
  },
  {
   "cell_type": "code",
   "execution_count": 7,
   "metadata": {},
   "outputs": [
    {
     "name": "stdout",
     "output_type": "stream",
     "text": [
      "<class 'pandas.core.frame.DataFrame'>\n",
      "Index: 45860 entries, 0 to 26965\n",
      "Data columns (total 10 columns):\n",
      " #   Column     Non-Null Count  Dtype  \n",
      "---  ------     --------------  -----  \n",
      " 0   id_depto   45860 non-null  object \n",
      " 1   depto      45860 non-null  object \n",
      " 2   prov_id    45860 non-null  object \n",
      " 3   prov       45860 non-null  object \n",
      " 4   año        45860 non-null  int64  \n",
      " 5   semanas    45860 non-null  object \n",
      " 6   evento     45860 non-null  object \n",
      " 7   edad_id    45858 non-null  object \n",
      " 8   edad_desc  45860 non-null  object \n",
      " 9   cantidad   45859 non-null  float64\n",
      "dtypes: float64(1), int64(1), object(8)\n",
      "memory usage: 3.8+ MB\n"
     ]
    }
   ],
   "source": [
    "TablaCompleta.info()"
   ]
  },
  {
   "cell_type": "markdown",
   "metadata": {},
   "source": [
    "Describe (Para ver datos generales de la tabla)"
   ]
  },
  {
   "cell_type": "code",
   "execution_count": 8,
   "metadata": {},
   "outputs": [
    {
     "data": {
      "text/html": [
       "<div>\n",
       "<style scoped>\n",
       "    .dataframe tbody tr th:only-of-type {\n",
       "        vertical-align: middle;\n",
       "    }\n",
       "\n",
       "    .dataframe tbody tr th {\n",
       "        vertical-align: top;\n",
       "    }\n",
       "\n",
       "    .dataframe thead th {\n",
       "        text-align: right;\n",
       "    }\n",
       "</style>\n",
       "<table border=\"1\" class=\"dataframe\">\n",
       "  <thead>\n",
       "    <tr style=\"text-align: right;\">\n",
       "      <th></th>\n",
       "      <th>año</th>\n",
       "      <th>cantidad</th>\n",
       "    </tr>\n",
       "  </thead>\n",
       "  <tbody>\n",
       "    <tr>\n",
       "      <th>count</th>\n",
       "      <td>45860.000000</td>\n",
       "      <td>45859.000000</td>\n",
       "    </tr>\n",
       "    <tr>\n",
       "      <th>mean</th>\n",
       "      <td>2022.525534</td>\n",
       "      <td>11.058920</td>\n",
       "    </tr>\n",
       "    <tr>\n",
       "      <th>std</th>\n",
       "      <td>1.985661</td>\n",
       "      <td>43.354523</td>\n",
       "    </tr>\n",
       "    <tr>\n",
       "      <th>min</th>\n",
       "      <td>2018.000000</td>\n",
       "      <td>1.000000</td>\n",
       "    </tr>\n",
       "    <tr>\n",
       "      <th>25%</th>\n",
       "      <td>2020.000000</td>\n",
       "      <td>1.000000</td>\n",
       "    </tr>\n",
       "    <tr>\n",
       "      <th>50%</th>\n",
       "      <td>2024.000000</td>\n",
       "      <td>2.000000</td>\n",
       "    </tr>\n",
       "    <tr>\n",
       "      <th>75%</th>\n",
       "      <td>2024.000000</td>\n",
       "      <td>7.000000</td>\n",
       "    </tr>\n",
       "    <tr>\n",
       "      <th>max</th>\n",
       "      <td>2024.000000</td>\n",
       "      <td>2226.000000</td>\n",
       "    </tr>\n",
       "  </tbody>\n",
       "</table>\n",
       "</div>"
      ],
      "text/plain": [
       "                año      cantidad\n",
       "count  45860.000000  45859.000000\n",
       "mean    2022.525534     11.058920\n",
       "std        1.985661     43.354523\n",
       "min     2018.000000      1.000000\n",
       "25%     2020.000000      1.000000\n",
       "50%     2024.000000      2.000000\n",
       "75%     2024.000000      7.000000\n",
       "max     2024.000000   2226.000000"
      ]
     },
     "execution_count": 8,
     "metadata": {},
     "output_type": "execute_result"
    }
   ],
   "source": [
    "TablaCompleta.describe()"
   ]
  },
  {
   "cell_type": "markdown",
   "metadata": {},
   "source": [
    "Código para transformar el dataframe en un csv "
   ]
  },
  {
   "cell_type": "code",
   "execution_count": 28,
   "metadata": {},
   "outputs": [],
   "source": [
    "TablaCompleta.to_csv(\"CSVs Creados/TablaCompleta.csv\", index=False)"
   ]
  },
  {
   "cell_type": "markdown",
   "metadata": {},
   "source": [
    "Creo una serie que contiene la cantidad de veces que se repite cada provincia"
   ]
  },
  {
   "cell_type": "code",
   "execution_count": 10,
   "metadata": {},
   "outputs": [
    {
     "data": {
      "text/plain": [
       "prov\n",
       "Buenos Aires           8220\n",
       "Chaco                  5709\n",
       "Salta                  3595\n",
       "Misiones               3508\n",
       "Santa Fe               3296\n",
       "CABA                   3020\n",
       "Córdoba                2973\n",
       "Formosa                2544\n",
       "Tucumán                2507\n",
       "Corrientes             1798\n",
       "Entre Ríos             1572\n",
       "Jujuy                  1344\n",
       "Santiago del Estero    1287\n",
       "Catamarca               967\n",
       "La Rioja                867\n",
       "Mendoza                 565\n",
       "San Juan                544\n",
       "San Luis                385\n",
       "desconocida             258\n",
       "La Pampa                221\n",
       "Santa Cruz              198\n",
       "Tierra del Fuego        147\n",
       "Chubut                  112\n",
       "Neuquén                 111\n",
       "Río Negro                64\n",
       "SAnta Fe                 30\n",
       "C�rdoba                   8\n",
       "(en blanco)               5\n",
       "DESCONOCIDA               2\n",
       "desconocidoo              1\n",
       "SAnta Cruz                1\n",
       "desconocido               1\n",
       "Name: count, dtype: int64"
      ]
     },
     "execution_count": 10,
     "metadata": {},
     "output_type": "execute_result"
    }
   ],
   "source": [
    "# Count the frequency of each element in the \"column_name\" column\n",
    "CantProv = TablaCompleta['prov'].value_counts()\n",
    "CantProv"
   ]
  },
  {
   "cell_type": "markdown",
   "metadata": {},
   "source": [
    "El siguiente paso es agrupar las provincias con su valor correcto (SAnta Cruz con Santa Cruz; juntar los desconocidos, etc.)"
   ]
  },
  {
   "cell_type": "code",
   "execution_count": 11,
   "metadata": {},
   "outputs": [],
   "source": [
    "# Estandarizo las Mayusculas  \n",
    "TablaCompleta['prov'] = TablaCompleta['prov'].str.replace(r'([a-z])([A-Z])', r'\\1 \\2', regex=True).str.title()"
   ]
  },
  {
   "cell_type": "code",
   "execution_count": 12,
   "metadata": {},
   "outputs": [],
   "source": [
    "# Corrijo los errores\n",
    "TablaCompleta['prov'] = TablaCompleta['prov'].replace('(En Blanco)', 'Desconocida')\n",
    "TablaCompleta['prov'] = TablaCompleta['prov'].replace('Desconocido', 'Desconocida')\n",
    "TablaCompleta['prov'] = TablaCompleta['prov'].replace('Desconocidoo', 'Desconocida')\n",
    "TablaCompleta['prov'] = TablaCompleta['prov'].replace('Desconocida', pd.NA)\n",
    "TablaCompleta['prov'] = TablaCompleta['prov'].replace('Caba', 'CABA')\n",
    "TablaCompleta['prov'] = TablaCompleta['prov'].replace('C�Rdoba', 'Córdoba')"
   ]
  },
  {
   "cell_type": "markdown",
   "metadata": {},
   "source": [
    "Limpieza de 'prov' completa.\n",
    "\n",
    "Hago lo mismo para depto"
   ]
  },
  {
   "cell_type": "code",
   "execution_count": 18,
   "metadata": {},
   "outputs": [
    {
     "data": {
      "text/plain": [
       "depto\n",
       "Capital                    3403\n",
       "Grl. José De San Martín     805\n",
       "San Fernando                756\n",
       "Formosa                     662\n",
       "Anta                        545\n",
       "                           ... \n",
       "General Pueyrredon            1\n",
       "Exaltacion De La Cruz         1\n",
       "Ciudad De Buenos Aires        1\n",
       "Conesa                        1\n",
       "General Guido                 1\n",
       "Name: count, Length: 465, dtype: int64"
      ]
     },
     "execution_count": 18,
     "metadata": {},
     "output_type": "execute_result"
    }
   ],
   "source": [
    "CantDepto = TablaCompleta['depto'].value_counts()\n",
    "CantDepto"
   ]
  },
  {
   "cell_type": "code",
   "execution_count": 14,
   "metadata": {},
   "outputs": [],
   "source": [
    "TablaCompleta['depto'] = TablaCompleta['depto'].str.replace(r'([a-z])([A-Z])', r'\\1 \\2', regex=True).str.title()"
   ]
  },
  {
   "cell_type": "code",
   "execution_count": 30,
   "metadata": {},
   "outputs": [],
   "source": [
    "TablaCompleta['depto'] = TablaCompleta['depto'].replace('(En Blanco)', 'Desconocida')\n",
    "TablaCompleta['depto'] = TablaCompleta['depto'].replace('Desconocido', 'Desconocida')\n",
    "TablaCompleta['depto'] = TablaCompleta['depto'].replace('Desconocidoo', 'Desconocida')\n",
    "TablaCompleta['depto'] = TablaCompleta['depto'].replace('Desconocida', pd.NA)\n",
    "TablaCompleta['depto'] = TablaCompleta['depto'].replace('Jun�N', 'Junín')\n",
    "TablaCompleta['depto'] = TablaCompleta['depto'].replace('Santa Mar�A', 'Santa María')\n",
    "TablaCompleta['depto'] = TablaCompleta['depto'].replace('Ituzaing�', 'Ituzaingo')\n",
    "TablaCompleta['depto'] = TablaCompleta['depto'].replace('Lan�S', 'Lanús')\n",
    "TablaCompleta['depto'] = TablaCompleta['depto'].replace('Mor�N', 'Morón')\n",
    "TablaCompleta['depto'] = TablaCompleta['depto'].replace('Col�N', 'Colón')\n",
    "TablaCompleta['depto'] = TablaCompleta['depto'].replace('Or�N', 'Orán')\n",
    "TablaCompleta['depto'] = TablaCompleta['depto'].replace('Guaran�', 'Guaraní')\n",
    "TablaCompleta['depto'] = TablaCompleta['depto'].replace('Constituci�N', 'Constitución')"
   ]
  },
  {
   "cell_type": "markdown",
   "metadata": {},
   "source": [
    "Paso siguiente: Reducir la granularidad (Pasar semanas -> meses )"
   ]
  },
  {
   "cell_type": "markdown",
   "metadata": {},
   "source": [
    "# Siguientes objetivos:\n",
    "\n",
    "1) Añadir Dataset de lluvias, humedad y de temperaturas por provincia (o departamento) anualizado para el período que cubren los datasets de dengue. (2018 - 2024)\n",
    "\n",
    "2) Normalizar todas las tablas\n",
    "\n",
    "3) Gráficos y Análisis Exploratorio\n",
    "\n",
    "4) Reconocimiento de patrones (clasificación, regresión, clustering, etc)\n",
    "\n",
    "5) Evaluación e interpretación de métricas\n",
    "\n",
    "6) Armar modelo predictivo y gráficos finales\n",
    "\n",
    "7) Dashboard"
   ]
  },
  {
   "cell_type": "markdown",
   "metadata": {},
   "source": [
    "# Normalizar las Tablas:\n",
    "\n",
    "## Tabla de deptos\n",
    "\n",
    "|id_depto|depto|\n"
   ]
  }
 ],
 "metadata": {
  "kernelspec": {
   "display_name": "Python 3",
   "language": "python",
   "name": "python3"
  },
  "language_info": {
   "codemirror_mode": {
    "name": "ipython",
    "version": 3
   },
   "file_extension": ".py",
   "mimetype": "text/x-python",
   "name": "python",
   "nbconvert_exporter": "python",
   "pygments_lexer": "ipython3",
   "version": "3.10.12"
  }
 },
 "nbformat": 4,
 "nbformat_minor": 2
}
